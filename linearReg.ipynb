{
 "cells": [
  {
   "cell_type": "markdown",
   "id": "18dd2806",
   "metadata": {},
   "source": [
    "# Linear Regression Analysis on House Prices"
   ]
  },
  {
   "cell_type": "markdown",
   "id": "59b021b5",
   "metadata": {},
   "source": [
    "## Load the Preprocessed Data"
   ]
  },
  {
   "cell_type": "code",
   "execution_count": 87,
   "id": "b10c67fa",
   "metadata": {},
   "outputs": [],
   "source": [
    "import pandas as pd\n",
    "import seaborn as sns\n",
    "import matplotlib.pyplot as plt\n",
    "import numpy as np\n",
    "from sklearn.metrics import mean_squared_error, mean_absolute_error, r2_score\n",
    "from math import sqrt\n",
    "from sklearn.linear_model import LinearRegression, RidgeCV, LassoCV, ElasticNetCV\n",
    "from sklearn.model_selection import cross_val_score"
   ]
  },
  {
   "cell_type": "code",
   "execution_count": 88,
   "id": "e7213e13",
   "metadata": {},
   "outputs": [],
   "source": [
    "# Load train and test set\n",
    "X_train = pd.read_csv(\"./data/X_train.csv\")\n",
    "y_train = pd.read_csv(\"./data/y_train.csv\")\n",
    "X_test = pd.read_csv(\"./data/X_test.csv\")\n",
    "y_test = pd.read_csv(\"./data/y_test.csv\")"
   ]
  },
  {
   "cell_type": "code",
   "execution_count": 89,
   "id": "bf665793",
   "metadata": {},
   "outputs": [],
   "source": [
    "# Check if the target variable needs to be reshaped into a 1D array\n",
    "if y_train.shape[1] == 1:\n",
    "    y_train = y_train.squeeze()\n",
    "if y_test.shape[1] == 1:\n",
    "    y_test = y_test.squeeze()"
   ]
  },
  {
   "cell_type": "markdown",
   "id": "3962f737",
   "metadata": {},
   "source": [
    "## Fit linear regression models with different types of regularization"
   ]
  },
  {
   "cell_type": "markdown",
   "id": "3e46ab6f",
   "metadata": {},
   "source": [
    "### 1. linear regression without regularization"
   ]
  },
  {
   "cell_type": "code",
   "execution_count": 149,
   "id": "99efc9f0",
   "metadata": {},
   "outputs": [
    {
     "data": {
      "text/plain": [
       "LinearRegression()"
      ]
     },
     "execution_count": 149,
     "metadata": {},
     "output_type": "execute_result"
    }
   ],
   "source": [
    "# Initialize the Linear Regression Model\n",
    "lr = LinearRegression()\n",
    "\n",
    "# Train the model with the training data\n",
    "lr.fit(X_train, y_train)"
   ]
  },
  {
   "cell_type": "code",
   "execution_count": 150,
   "id": "0e790150",
   "metadata": {},
   "outputs": [],
   "source": [
    "# Predict the Test set results\n",
    "y_pred = lr.predict(X_test)"
   ]
  },
  {
   "cell_type": "code",
   "execution_count": 151,
   "id": "f00b187e",
   "metadata": {},
   "outputs": [],
   "source": [
    "# Evaluate the Model Performance\n",
    "mse = mean_squared_error(y_test, y_pred)\n",
    "r2 = r2_score(y_test, y_pred)"
   ]
  },
  {
   "cell_type": "code",
   "execution_count": 152,
   "id": "a8831c87",
   "metadata": {},
   "outputs": [
    {
     "name": "stdout",
     "output_type": "stream",
     "text": [
      "Model Performance:\n",
      "Root Mean Squared Error: 39390.31008679674\n",
      "R-squared Score: 0.7670318541145231\n"
     ]
    }
   ],
   "source": [
    "# Output model performance\n",
    "print('Model Performance:')\n",
    "print('Root Mean Squared Error:', sqrt(mse))\n",
    "print('R-squared Score:', r2)"
   ]
  },
  {
   "cell_type": "code",
   "execution_count": 153,
   "id": "ef9ad9d3",
   "metadata": {},
   "outputs": [
    {
     "name": "stdout",
     "output_type": "stream",
     "text": [
      "\n",
      "Model Settings:\n",
      "{'copy_X': True, 'fit_intercept': True, 'n_jobs': None, 'normalize': 'deprecated', 'positive': False}\n"
     ]
    }
   ],
   "source": [
    "# Displaying model settings\n",
    "print('\\nModel Settings:')\n",
    "print(lr.get_params())"
   ]
  },
  {
   "cell_type": "markdown",
   "id": "78eab800",
   "metadata": {},
   "source": [
    "### 2. linear regression with L1 regularization"
   ]
  },
  {
   "cell_type": "code",
   "execution_count": 155,
   "id": "9c2a4b09",
   "metadata": {},
   "outputs": [
    {
     "data": {
      "text/plain": [
       "LassoCV(alphas=[0.001, 0.01, 0.1, 1.0, 10, 100, 1000], cv=5, max_iter=10000)"
      ]
     },
     "execution_count": 155,
     "metadata": {},
     "output_type": "execute_result"
    }
   ],
   "source": [
    "# Implement cross validation to find the best alpha for the regularization\n",
    "alphas = [0.001, 0.01, 0.1, 1.0, 10, 100, 1000] \n",
    "lasso = LassoCV(alphas=alphas, max_iter=10000, cv=5)\n",
    "\n",
    "# Train the model with the training data\n",
    "lasso.fit(X_train, y_train)"
   ]
  },
  {
   "cell_type": "code",
   "execution_count": 156,
   "id": "4036c879",
   "metadata": {},
   "outputs": [],
   "source": [
    "# Predict the Test set results\n",
    "y_pred = lasso.predict(X_test)"
   ]
  },
  {
   "cell_type": "code",
   "execution_count": 157,
   "id": "8da07319",
   "metadata": {},
   "outputs": [],
   "source": [
    "# Evaluate the Model Performance\n",
    "mse = mean_squared_error(y_test, y_pred)\n",
    "r2 = r2_score(y_test, y_pred)"
   ]
  },
  {
   "cell_type": "code",
   "execution_count": 158,
   "id": "54ba6258",
   "metadata": {},
   "outputs": [
    {
     "name": "stdout",
     "output_type": "stream",
     "text": [
      "Model Performance:\n",
      "Root Mean Squared Error: 38337.05174158005\n",
      "R-squared Score: 0.7793239681391044\n"
     ]
    }
   ],
   "source": [
    "# Output model performance\n",
    "print('Model Performance:')\n",
    "print('Root Mean Squared Error:', sqrt(mse))\n",
    "print('R-squared Score:', r2)"
   ]
  },
  {
   "cell_type": "code",
   "execution_count": 159,
   "id": "e8b43c1b",
   "metadata": {},
   "outputs": [
    {
     "name": "stdout",
     "output_type": "stream",
     "text": [
      "\n",
      "Model Settings:\n",
      "{'alphas': [0.001, 0.01, 0.1, 1.0, 10, 100, 1000], 'copy_X': True, 'cv': 5, 'eps': 0.001, 'fit_intercept': True, 'max_iter': 10000, 'n_alphas': 100, 'n_jobs': None, 'normalize': 'deprecated', 'positive': False, 'precompute': 'auto', 'random_state': None, 'selection': 'cyclic', 'tol': 0.0001, 'verbose': False}\n"
     ]
    }
   ],
   "source": [
    "# Displaying model settings\n",
    "print('\\nModel Settings:')\n",
    "print(lasso.get_params())"
   ]
  },
  {
   "cell_type": "markdown",
   "id": "b376d0e4",
   "metadata": {},
   "source": [
    "### 3. linear regression with L2 regularization"
   ]
  },
  {
   "cell_type": "code",
   "execution_count": 161,
   "id": "946f3ec3",
   "metadata": {},
   "outputs": [
    {
     "data": {
      "text/plain": [
       "RidgeCV(alphas=array([1.e-03, 1.e-02, 1.e-01, 1.e+00, 1.e+01, 1.e+02, 1.e+03]),\n",
       "        cv=5)"
      ]
     },
     "execution_count": 161,
     "metadata": {},
     "output_type": "execute_result"
    }
   ],
   "source": [
    "# Implement cross validation to find the best alpha for the regularization\n",
    "alphas = [0.001, 0.01, 0.1, 1.0, 10, 100, 1000] \n",
    "ridge = RidgeCV(alphas=alphas, cv=5)\n",
    "\n",
    "# Train the model with the training data\n",
    "ridge.fit(X_train, y_train)"
   ]
  },
  {
   "cell_type": "code",
   "execution_count": 162,
   "id": "fc8146e6",
   "metadata": {},
   "outputs": [],
   "source": [
    "# Predict the Test set results\n",
    "y_pred = ridge.predict(X_test)"
   ]
  },
  {
   "cell_type": "code",
   "execution_count": 163,
   "id": "730134ab",
   "metadata": {},
   "outputs": [],
   "source": [
    "# Evaluate the Model Performance\n",
    "mse = mean_squared_error(y_test, y_pred)\n",
    "r2 = r2_score(y_test, y_pred)"
   ]
  },
  {
   "cell_type": "code",
   "execution_count": 164,
   "id": "e9173727",
   "metadata": {},
   "outputs": [
    {
     "name": "stdout",
     "output_type": "stream",
     "text": [
      "Model Performance:\n",
      "Root Mean Squared Error: 37612.72062241235\n",
      "R-squared Score: 0.7875839931919417\n"
     ]
    }
   ],
   "source": [
    "# Output model performance\n",
    "print('Model Performance:')\n",
    "print('Root Mean Squared Error:', sqrt(mse))\n",
    "print('R-squared Score:', r2)"
   ]
  },
  {
   "cell_type": "code",
   "execution_count": 166,
   "id": "299a3a7a",
   "metadata": {},
   "outputs": [
    {
     "name": "stdout",
     "output_type": "stream",
     "text": [
      "\n",
      "Model Settings:\n",
      "{'alpha_per_target': False, 'alphas': array([1.e-03, 1.e-02, 1.e-01, 1.e+00, 1.e+01, 1.e+02, 1.e+03]), 'cv': 5, 'fit_intercept': True, 'gcv_mode': None, 'normalize': 'deprecated', 'scoring': None, 'store_cv_values': False}\n"
     ]
    }
   ],
   "source": [
    "# Displaying model settings\n",
    "print('\\nModel Settings:')\n",
    "print(ridge.get_params())"
   ]
  },
  {
   "cell_type": "markdown",
   "id": "8639e55a",
   "metadata": {},
   "source": [
    "### 4. linear regression with elastic net (L1+L2) regularization"
   ]
  },
  {
   "cell_type": "code",
   "execution_count": 168,
   "id": "b7153475",
   "metadata": {},
   "outputs": [
    {
     "data": {
      "text/plain": [
       "ElasticNetCV(alphas=[0.01, 0.01, 0.1, 1.0, 10, 100, 1000], cv=5, max_iter=10000)"
      ]
     },
     "execution_count": 168,
     "metadata": {},
     "output_type": "execute_result"
    }
   ],
   "source": [
    "# Implement cross validation to find the best alpha for the regularization\n",
    "alphas = [0.01, 0.01, 0.1, 1.0, 10, 100, 1000] \n",
    "enet = ElasticNetCV(alphas=alphas, max_iter=10000, cv=5)\n",
    "\n",
    "# Train the model with the training data\n",
    "enet.fit(X_train, y_train)"
   ]
  },
  {
   "cell_type": "code",
   "execution_count": 169,
   "id": "35dfa65b",
   "metadata": {},
   "outputs": [],
   "source": [
    "# Predict the Test set results\n",
    "y_pred = enet.predict(X_test)"
   ]
  },
  {
   "cell_type": "code",
   "execution_count": 170,
   "id": "fbea903e",
   "metadata": {},
   "outputs": [],
   "source": [
    "# Evaluate the Model Performance\n",
    "mse = mean_squared_error(y_test, y_pred)\n",
    "r2 = r2_score(y_test, y_pred)"
   ]
  },
  {
   "cell_type": "code",
   "execution_count": 171,
   "id": "f5b3e21d",
   "metadata": {},
   "outputs": [
    {
     "name": "stdout",
     "output_type": "stream",
     "text": [
      "Model Performance:\n",
      "Root Mean Squared Error: 37178.98757104054\n",
      "R-squared Score: 0.7924547193558505\n"
     ]
    }
   ],
   "source": [
    "# Output model performance\n",
    "print('Model Performance:')\n",
    "print('Root Mean Squared Error:', sqrt(mse))\n",
    "print('R-squared Score:', r2)"
   ]
  },
  {
   "cell_type": "code",
   "execution_count": 172,
   "id": "102c570d",
   "metadata": {},
   "outputs": [
    {
     "name": "stdout",
     "output_type": "stream",
     "text": [
      "\n",
      "Model Settings:\n",
      "{'alphas': [0.01, 0.01, 0.1, 1.0, 10, 100, 1000], 'copy_X': True, 'cv': 5, 'eps': 0.001, 'fit_intercept': True, 'l1_ratio': 0.5, 'max_iter': 10000, 'n_alphas': 100, 'n_jobs': None, 'normalize': 'deprecated', 'positive': False, 'precompute': 'auto', 'random_state': None, 'selection': 'cyclic', 'tol': 0.0001, 'verbose': 0}\n"
     ]
    }
   ],
   "source": [
    "# Displaying model settings\n",
    "print('\\nModel Settings:')\n",
    "print(enet.get_params())"
   ]
  },
  {
   "cell_type": "markdown",
   "id": "f0c0a5b8",
   "metadata": {},
   "source": [
    "## Model Selection and Interpretation"
   ]
  },
  {
   "cell_type": "markdown",
   "id": "c06b9b1e",
   "metadata": {},
   "source": [
    "Based on the model performance, RMSE and R-squared, linear regression with elastic net regularization model performs the best. Therefore, we choose it for further interpretation."
   ]
  },
  {
   "cell_type": "code",
   "execution_count": 174,
   "id": "df9a94e1",
   "metadata": {},
   "outputs": [
    {
     "data": {
      "image/png": "[encoded data removed]",
      "text/plain": [
       "<Figure size 1000x600 with 1 Axes>"
      ]
     },
     "metadata": {},
     "output_type": "display_data"
    }
   ],
   "source": [
    "# Plotting the true vs predicted values for visual analysis\n",
    "plt.figure(figsize=(10,6))\n",
    "plt.scatter(y_test, predictions)\n",
    "plt.plot([y_test.min(), y_test.max()], [y_test.min(), y_test.max()], 'k--', lw=4)\n",
    "plt.xlabel('Measured')\n",
    "plt.ylabel('Predicted')\n",
    "plt.title('True Value vs Predicted Value')\n",
    "plt.show()"
   ]
  },
  {
   "cell_type": "markdown",
   "id": "922bc28f",
   "metadata": {},
   "source": [
    "The model achieved an RMSE of approximately 37178.99, indicating the average error in the house price predictions made by our model is about  $37,178.99. The R-squared value of 0.79 suggests that the model explains 79\\% of the variance in house prices, which is a moderate fit.\n",
    "\n",
    "While the model demonstrates a fair predictive ability, the scatter plot indicates some discrepancies between the predicted and actual values when the sale price is greater than $300000. This implies potential areas for model improvement, possibly through more complex modeling techniques or additional feature engineering."
   ]
  },
  {
   "cell_type": "code",
   "execution_count": 176,
   "id": "5d88152e",
   "metadata": {},
   "outputs": [
    {
     "name": "stdout",
     "output_type": "stream",
     "text": [
      "\n",
      "Top features for Elastic net Regression:\n",
      "OverallQual: 10394.11394895319\n",
      "GrLivArea: 9179.591435100314\n",
      "1stFlrSF: 6248.029706226292\n",
      "ExterQual: 6040.11889214379\n",
      "KitchenQual: 5727.8698174056335\n",
      "MasVnrArea: 5543.512475304737\n",
      "2ndFlrSF: 5349.280366738617\n",
      "TotalBsmtSF: 5347.260619713412\n",
      "BsmtQual: 5013.410253246516\n",
      "BsmtExposure: 4814.363208557402\n"
     ]
    }
   ],
   "source": [
    "# Get top features of the model\n",
    "feature_names = X_train.columns\n",
    "coefficients = enet.coef_\n",
    "importance = np.abs(coefficients)\n",
    "feature_importance = sorted(zip(feature_names, importance), key=lambda x: x[1], reverse=True)\n",
    "enet_features, enet_importances = zip(*feature_importance)\n",
    "\n",
    "# Output top 10 features and their coefficients\n",
    "print(\"\\nTop features for Elastic net Regression:\")\n",
    "for feature, imp in zip(enet_features[:10], enet_importances[:10]):\n",
    "    print(f\"{feature}: {imp}\")"
   ]
  },
  {
   "cell_type": "code",
   "execution_count": null,
   "id": "b275bb90",
   "metadata": {},
   "outputs": [],
   "source": []
  }
 ],
 "metadata": {
  "kernelspec": {
   "display_name": "Python 3 (ipykernel)",
   "language": "python",
   "name": "python3"
  },
  "language_info": {
   "codemirror_mode": {
    "name": "ipython",
    "version": 3
   },
   "file_extension": ".py",
   "mimetype": "text/x-python",
   "name": "python",
   "nbconvert_exporter": "python",
   "pygments_lexer": "ipython3",
   "version": "3.11.5"
  }
 },
 "nbformat": 4,
 "nbformat_minor": 5
}
