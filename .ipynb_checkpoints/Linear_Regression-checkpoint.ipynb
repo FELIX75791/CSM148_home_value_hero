{
 "cells": [
  {
   "cell_type": "markdown",
   "id": "915c8ffb",
   "metadata": {},
   "source": [
    "# Linear Regression Analysis on House Prices"
   ]
  },
  {
   "cell_type": "code",
   "execution_count": 1,
   "id": "a3f31658",
   "metadata": {},
   "outputs": [
    {
     "name": "stdout",
     "output_type": "stream",
     "text": [
      "Mean Squared Error: 2840845406.968538\n",
      "R-squared Score: -0.04084064913057994\n"
     ]
    }
   ],
   "source": [
    "\n",
    "import pandas as pd\n",
    "import numpy as np\n",
    "from sklearn.model_selection import train_test_split\n",
    "from sklearn.linear_model import LinearRegression\n",
    "from sklearn.metrics import mean_squared_error, r2_score\n",
    "import matplotlib.pyplot as plt\n",
    "import seaborn as sns\n",
    "\n",
    "# Load the dataset (placeholder code as the actual dataset needs to be provided)\n",
    "# Assuming the dataset is in a CSV file format and has been preprocessed based on the team's approach\n",
    "# dataset = pd.read_csv('path_to_dataset.csv')\n",
    "\n",
    "# Placeholder dataset creation for demonstration purposes\n",
    "np.random.seed(0)\n",
    "dataset = pd.DataFrame({\n",
    "    'MSZoning': np.random.choice(['RL', 'RM', 'FV', 'RH', 'C'], size=1000),\n",
    "    'LotFrontage': np.random.normal(60, 20, 1000),\n",
    "    'Street': np.random.choice(['Pave', 'Grvl'], size=1000),\n",
    "    'OverallQual': np.random.randint(1, 10, 1000),\n",
    "    'YearBuilt': np.random.randint(1900, 2021, 1000),\n",
    "    'BsmtQual': np.random.choice(['Ex', 'Gd', 'TA', 'Fa', 'Po', 'NA'], size=1000),\n",
    "    'TotalBsmtSF': np.random.normal(1050, 400, 1000),\n",
    "    'GrLivArea': np.random.normal(1500, 500, 1000),\n",
    "    'GarageArea': np.random.normal(500, 200, 1000),\n",
    "    'SalePrice': np.random.normal(200000, 50000, 1000)\n",
    "})\n",
    "\n",
    "# Preprocessing: Encoding categorical variables, normalization, etc. (Placeholder)\n",
    "# Normally, we would perform preprocessing steps like handling NA values, encoding categorical variables, normalization etc. \n",
    "# For this demonstration, we'll skip these steps.\n",
    "\n",
    "# Splitting the dataset into features (X) and target variable (y)\n",
    "X = dataset.drop('SalePrice', axis=1)\n",
    "y = dataset['SalePrice']\n",
    "\n",
    "# Encoding categorical variables (placeholder code)\n",
    "X_encoded = pd.get_dummies(X, drop_first=True)\n",
    "\n",
    "# Splitting the dataset into training and testing sets\n",
    "X_train, X_test, y_train, y_test = train_test_split(X_encoded, y, test_size=0.2, random_state=0)\n",
    "\n",
    "# Linear Regression Model\n",
    "model = LinearRegression()\n",
    "model.fit(X_train, y_train)\n",
    "\n",
    "# Predicting the Test set results\n",
    "y_pred = model.predict(X_test)\n",
    "\n",
    "# Evaluating the Model\n",
    "mse = mean_squared_error(y_test, y_pred)\n",
    "r2 = r2_score(y_test, y_pred)\n",
    "\n",
    "# Output results\n",
    "print('Mean Squared Error:', mse)\n",
    "print('R-squared Score:', r2)\n"
   ]
  },
  {
   "cell_type": "code",
   "execution_count": null,
   "id": "5792005a",
   "metadata": {},
   "outputs": [],
   "source": []
  }
 ],
 "metadata": {
  "kernelspec": {
   "display_name": "Python 3 (ipykernel)",
   "language": "python",
   "name": "python3"
  },
  "language_info": {
   "codemirror_mode": {
    "name": "ipython",
    "version": 3
   },
   "file_extension": ".py",
   "mimetype": "text/x-python",
   "name": "python",
   "nbconvert_exporter": "python",
   "pygments_lexer": "ipython3",
   "version": "3.11.5"
  }
 },
 "nbformat": 4,
 "nbformat_minor": 5
}
