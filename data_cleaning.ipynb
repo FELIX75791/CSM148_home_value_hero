{
 "cells": [
  {
   "cell_type": "markdown",
   "metadata": {},
   "source": [
    "# Data Cleaning and Preprocessing"
   ]
  },
  {
   "cell_type": "code",
   "execution_count": 1,
   "metadata": {},
   "outputs": [],
   "source": [
    "import pandas as pd\n",
    "import numpy as np\n",
    "import seaborn as sns\n",
    "from sklearn.preprocessing import OrdinalEncoder, StandardScaler\n",
    "from sklearn.model_selection import train_test_split"
   ]
  },
  {
   "cell_type": "code",
   "execution_count": 2,
   "metadata": {},
   "outputs": [],
   "source": [
    "# 1. reading raw data\n",
    "raw_data = pd.read_csv(\"./housing_data/train.csv\")"
   ]
  },
  {
   "cell_type": "code",
   "execution_count": 3,
   "metadata": {},
   "outputs": [],
   "source": [
    "# 2. selecting useful features and drop columns with nan\n",
    "filtered_features = [\"MSZoning\", \"LotFrontage\", \"LotArea\", \"Street\", \"LotShape\", \"LandContour\", \"Utilities\", \"LotConfig\", \"LandSlope\", \"BldgType\", \"HouseStyle\", \n",
    "                     \"OverallQual\", \"OverallCond\", \"YearBuilt\", \"YearRemodAdd\", \"MasVnrArea\", \"ExterQual\", \"ExterCond\", \"Foundation\", \"BsmtQual\", \"BsmtCond\", \n",
    "                     \"BsmtExposure\", \"BsmtUnfSF\", \"TotalBsmtSF\", \"Heating\", \"HeatingQC\", \"CentralAir\", \"1stFlrSF\", \"2ndFlrSF\", \"GrLivArea\", \"BsmtFullBath\", \"BsmtHalfBath\", \n",
    "                     \"FullBath\", \"HalfBath\", \"KitchenAbvGr\", \"KitchenQual\", \"TotRmsAbvGrd\", \"Functional\", \"Fireplaces\", \"FireplaceQu\", \"GarageCars\", \"GarageArea\", \n",
    "                     \"GarageQual\", \"GarageCond\", \"PavedDrive\", \"WoodDeckSF\", \"OpenPorchSF\", \"EnclosedPorch\", \"3SsnPorch\", \"ScreenPorch\", \"PoolArea\", \"PoolQC\", \"Fence\", \n",
    "                     \"MiscVal\", \"YrSold\", \"SaleType\", \"SaleCondition\"]\n",
    "filtered_data = raw_data[filtered_features]"
   ]
  },
  {
   "cell_type": "code",
   "execution_count": 4,
   "metadata": {},
   "outputs": [],
   "source": [
    "# 3. encoding ordinal categorical variables\n",
    "ordinal_columns = [\"Utilities\", \"LandSlope\", \"ExterQual\", \"ExterCond\", \"BsmtQual\", \"BsmtCond\", \"BsmtExposure\",\n",
    "                   \"HeatingQC\", \"KitchenQual\", \"Functional\", \"FireplaceQu\", \"GarageQual\", \"GarageCond\", \"PavedDrive\", \n",
    "                   \"PoolQC\", \"Fence\"]\n",
    "\n",
    "# deal with meaningful NaN\n",
    "filtered_data = filtered_data.copy()\n",
    "meaningful_nan = 'not_applicable'\n",
    "filtered_data[ordinal_columns] = filtered_data[ordinal_columns].fillna(meaningful_nan)\n",
    "\n",
    "ordinal_order = {\n",
    "    \"Utilities\": [\"ELO\", \"NoSeWa\", \"NoSewr\", \"AllPub\"],\n",
    "    \"LandSlope\": [\"Sev\", \"Mod\", \"Gtl\"],\n",
    "    \"ExterQual\": [\"Po\", \"Fa\", \"TA\", \"Gd\", \"Ex\"],\n",
    "    \"ExterCond\": [\"Po\", \"Fa\", \"TA\", \"Gd\", \"Ex\"],\n",
    "    \"BsmtQual\": [\"Po\", \"Fa\", meaningful_nan, \"TA\", \"Gd\", \"Ex\"],\n",
    "    \"BsmtCond\": [\"Po\", \"Fa\", meaningful_nan, \"TA\", \"Gd\", \"Ex\"],\n",
    "    \"BsmtExposure\": [\"No\", \"Mn\", meaningful_nan, \"Av\", \"Gd\"],\n",
    "    \"HeatingQC\": [\"Po\", \"Fa\", \"TA\", \"Gd\", \"Ex\"],\n",
    "    \"KitchenQual\": [\"Po\", \"Fa\", \"TA\", \"Gd\", \"Ex\"],\n",
    "    \"Functional\": [\"Sal\", \"Sev\", \"Maj2\", \"Maj1\", \"Mod\", \"Min2\", \"Min1\", \"Typ\"],\n",
    "    \"FireplaceQu\": [\"Po\", \"Fa\", meaningful_nan, \"TA\", \"Gd\", \"Ex\"],\n",
    "    \"GarageQual\": [\"Po\", \"Fa\", meaningful_nan, \"TA\", \"Gd\", \"Ex\"],\n",
    "    \"GarageCond\": [\"Po\", \"Fa\", meaningful_nan, \"TA\", \"Gd\", \"Ex\"],\n",
    "    \"PavedDrive\": [\"N\", \"P\", \"Y\"],\n",
    "    \"PoolQC\": [\"Fa\", \"TA\", meaningful_nan, \"Gd\", \"Ex\"],\n",
    "    \"Fence\": [\"MnWw\", \"MnPrv\", meaningful_nan, \"GdWo\", \"GdPrv\"]\n",
    "}\n",
    "# ordinal encoding\n",
    "for col in ordinal_columns:\n",
    "    ordinal_encoder = OrdinalEncoder(categories=[ordinal_order[col]])\n",
    "    ordinal_data = ordinal_encoder.fit_transform(filtered_data[[col]])\n",
    "    filtered_data.loc[:, col] = ordinal_data"
   ]
  },
  {
   "cell_type": "code",
   "execution_count": 5,
   "metadata": {},
   "outputs": [],
   "source": [
    "# 4. encoding nominal categorical variable\n",
    "nominal_columns = [\"MSZoning\", \"Street\", \"LotShape\", \"LandContour\", \"LotConfig\", \"BldgType\", \"HouseStyle\", \n",
    "                   \"Foundation\", \"Heating\", \"CentralAir\", \"SaleType\", \"SaleCondition\"]\n",
    "# one-hot encoding\n",
    "nominal_data = pd.get_dummies(filtered_data[nominal_columns])\n",
    "# remove original nominal data and concat the one-hot-encoded data\n",
    "encoded_data = pd.concat([filtered_data.drop(nominal_columns, axis=1), nominal_data], axis=1)"
   ]
  },
  {
   "cell_type": "code",
   "execution_count": 6,
   "metadata": {},
   "outputs": [],
   "source": [
    "# 5. feature engineering\n",
    "encoded_data[\"year_since_built\"] = encoded_data[\"YrSold\"] - encoded_data[\"YearBuilt\"]\n",
    "encoded_data[\"year_since_remod\"] = encoded_data[\"YrSold\"] - encoded_data[\"YearRemodAdd\"]\n",
    "encoded_data.drop([\"YrSold\", \"YearBuilt\", \"YearRemodAdd\"], axis = 1, inplace = True)"
   ]
  },
  {
   "cell_type": "code",
   "execution_count": 7,
   "metadata": {},
   "outputs": [],
   "source": [
    "# 6. normalization\n",
    "scaler = StandardScaler()\n",
    "encoded_data_scaled = scaler.fit_transform(encoded_data)\n",
    "encoded_data_scaled = pd.DataFrame(encoded_data_scaled, columns=encoded_data.columns)"
   ]
  },
  {
   "cell_type": "code",
   "execution_count": 8,
   "metadata": {},
   "outputs": [
    {
     "data": {
      "text/plain": [
       "LotFrontage         0\n",
       "LotArea             0\n",
       "OverallQual         0\n",
       "OverallCond         0\n",
       "MasVnrArea          0\n",
       "BsmtUnfSF           0\n",
       "TotalBsmtSF         0\n",
       "1stFlrSF            0\n",
       "2ndFlrSF            0\n",
       "GrLivArea           0\n",
       "BsmtFullBath        0\n",
       "BsmtHalfBath        0\n",
       "FullBath            0\n",
       "HalfBath            0\n",
       "KitchenAbvGr        0\n",
       "TotRmsAbvGrd        0\n",
       "Fireplaces          0\n",
       "GarageCars          0\n",
       "GarageArea          0\n",
       "WoodDeckSF          0\n",
       "OpenPorchSF         0\n",
       "EnclosedPorch       0\n",
       "3SsnPorch           0\n",
       "ScreenPorch         0\n",
       "PoolArea            0\n",
       "MiscVal             0\n",
       "year_since_built    0\n",
       "year_since_remod    0\n",
       "dtype: int64"
      ]
     },
     "execution_count": 8,
     "metadata": {},
     "output_type": "execute_result"
    }
   ],
   "source": [
    "# 7. dealing NaN for for numeric variables\n",
    "numerical_columns = ['LotFrontage', 'LotArea', 'OverallQual', 'OverallCond', 'MasVnrArea', 'BsmtUnfSF', 'TotalBsmtSF', '1stFlrSF',\n",
    "                     '2ndFlrSF', 'GrLivArea', 'BsmtFullBath', 'BsmtHalfBath', 'FullBath', 'HalfBath', 'KitchenAbvGr', 'TotRmsAbvGrd', 'Fireplaces', 'GarageCars',\n",
    "                     'GarageArea', 'WoodDeckSF', 'OpenPorchSF', 'EnclosedPorch', '3SsnPorch', 'ScreenPorch', 'PoolArea', 'MiscVal', \"year_since_built\", \"year_since_remod\"]\n",
    "for col in numerical_columns:\n",
    "    encoded_data_scaled[col].fillna(encoded_data_scaled[col].mean(), inplace=True)\n",
    "encoded_data_scaled[numerical_columns].isnull().sum()"
   ]
  },
  {
   "cell_type": "code",
   "execution_count": 12,
   "metadata": {},
   "outputs": [],
   "source": [
    "# train validation test split\n",
    "# 0.6 : 0.2 : 0.2\n",
    "X_train, X_test, y_train, y_test = train_test_split(encoded_data_scaled, raw_data[\"SalePrice\"], test_size=0.20, random_state=4244997347)"
   ]
  },
  {
   "cell_type": "code",
   "execution_count": 13,
   "metadata": {},
   "outputs": [],
   "source": [
    "# Export train, test, and validation dataset\n",
    "X_train.to_csv('./data/X_train.csv', index = False)\n",
    "y_train.to_csv('./data/y_train.csv', index = False)\n",
    "X_test.to_csv('./data/X_test.csv', index = False)\n",
    "y_test.to_csv('./data/y_test.csv', index = False)"
   ]
  }
 ],
 "metadata": {
  "kernelspec": {
   "display_name": "CSM148",
   "language": "python",
   "name": "python3"
  },
  "language_info": {
   "codemirror_mode": {
    "name": "ipython",
    "version": 3
   },
   "file_extension": ".py",
   "mimetype": "text/x-python",
   "name": "python",
   "nbconvert_exporter": "python",
   "pygments_lexer": "ipython3",
   "version": "3.10.13"
  }
 },
 "nbformat": 4,
 "nbformat_minor": 2
}
